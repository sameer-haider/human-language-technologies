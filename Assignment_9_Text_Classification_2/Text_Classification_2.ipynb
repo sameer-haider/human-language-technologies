{
  "nbformat": 4,
  "nbformat_minor": 0,
  "metadata": {
    "colab": {
      "provenance": []
    },
    "kernelspec": {
      "name": "python3",
      "display_name": "Python 3"
    },
    "language_info": {
      "name": "python"
    }
  },
  "cells": [
    {
      "cell_type": "markdown",
      "source": [
        "### Preprocessing"
      ],
      "metadata": {
        "id": "S1xGIOEP5qpT"
      }
    },
    {
      "cell_type": "code",
      "execution_count": null,
      "metadata": {
        "id": "zxWv-36S4Na3"
      },
      "outputs": [],
      "source": [
        "# Imports\n",
        "import pandas as pd\n",
        "import numpy as np\n",
        "from sklearn.feature_extraction.text import CountVectorizer, TfidfVectorizer\n",
        "from sklearn.model_selection import train_test_split\n",
        "from sklearn.naive_bayes import MultinomialNB\n",
        "from sklearn.linear_model import LogisticRegression\n",
        "from sklearn.neural_network import MLPClassifier\n",
        "import matplotlib.pyplot as plt\n",
        "from sklearn.metrics import classification_report\n",
        "import tensorflow as tf\n",
        "from tensorflow.keras.preprocessing.text import Tokenizer\n",
        "from tensorflow.keras.preprocessing.sequence import pad_sequences\n",
        "from tensorflow.keras.models import Sequential\n",
        "from tensorflow.keras.layers import Embedding, GlobalAveragePooling1D, Dense\n",
        "from tensorflow.keras.layers import SimpleRNN\n",
        "from tensorflow.keras.optimizers import Adam"
      ]
    },
    {
      "cell_type": "markdown",
      "source": [],
      "metadata": {
        "id": "CNFbwXgXFBEq"
      }
    },
    {
      "cell_type": "code",
      "source": [
        "# Load sms-spam data\n",
        "data = pd.read_csv('sample_data/spam.csv', encoding = 'latin-1')\n",
        "data = data.iloc[:, :2]\n",
        "data.columns = ['label', 'text']"
      ],
      "metadata": {
        "id": "Qy842tH25dxv"
      },
      "execution_count": null,
      "outputs": []
    },
    {
      "cell_type": "code",
      "source": [
        "# Preprocessing\n",
        "data['label'] = data['label'].apply(lambda x: 1 if x == 'spam' else 0)"
      ],
      "metadata": {
        "id": "iVKbu48U5yyX"
      },
      "execution_count": null,
      "outputs": []
    },
    {
      "cell_type": "code",
      "source": [
        "# Split into 2 sets: Count and tf-idf\n",
        "train_data, test_data = train_test_split(data, test_size=0.2, random_state=42)"
      ],
      "metadata": {
        "id": "M93jVcp6JuQq"
      },
      "execution_count": null,
      "outputs": []
    },
    {
      "cell_type": "markdown",
      "source": [
        "### Distribution and Description"
      ],
      "metadata": {
        "id": "VBj1bcUf9TFW"
      }
    },
    {
      "cell_type": "code",
      "source": [
        "\n",
        "# Plot the distribution of the target classes\n",
        "plt.hist(data['label'], bins=2, width=.2, align='right')\n",
        "plt.xlabel('Class')\n",
        "plt.ylabel('Count')\n",
        "plt.xticks([.35, .85], ['ham', 'spam'])\n",
        "plt.show()"
      ],
      "metadata": {
        "colab": {
          "base_uri": "https://localhost:8080/",
          "height": 450
        },
        "id": "-2g1_ZjG9VGf",
        "outputId": "d71e9aed-36a6-4cec-a33d-6710e2c9eb6e"
      },
      "execution_count": null,
      "outputs": [
        {
          "output_type": "display_data",
          "data": {
            "text/plain": [
              "<Figure size 640x480 with 1 Axes>"
            ],
            "image/png": "[encoded data removed]"
          },
          "metadata": {}
        }
      ]
    },
    {
      "cell_type": "markdown",
      "source": [
        "The [dataset](https://www.kaggle.com/datasets/uciml/sms-spam-collection-dataset) contains over 5000 SMS messages which are either spam or \"ham\" as shown in the distribution above. Messages that are \"ham\" are simply not spam. The model should be able to predict which messages are spam and which are \"ham\" or not spam based on the message. It should be able to analyze frequent words that appear across spam messages and use that to identify new spam messages."
      ],
      "metadata": {
        "id": "dpCebSbE_v_Q"
      }
    },
    {
      "cell_type": "markdown",
      "source": [
        "### Sequential Model"
      ],
      "metadata": {
        "id": "joLJzHk25gr4"
      }
    },
    {
      "cell_type": "code",
      "source": [
        "\n",
        "# Tokenize and pad the text\n",
        "tokenizer = Tokenizer()\n",
        "tokenizer.fit_on_texts(train_data['text'])\n",
        "vocab_size = len(tokenizer.word_index) + 1\n",
        "\n",
        "# Train and test\n",
        "X_train = tokenizer.texts_to_sequences(train_data['text'])\n",
        "X_test = tokenizer.texts_to_sequences(test_data['text'])\n",
        "\n",
        "max_length = max(len(x) for x in X_train)\n",
        "X_train = pad_sequences(X_train, maxlen=max_length, padding='post')\n",
        "X_test = pad_sequences(X_test, maxlen=max_length, padding='post')\n",
        "\n",
        "y_train = train_data['label'].values\n",
        "y_test = test_data['label'].values\n",
        "\n",
        "# Define the sequential model\n",
        "model = Sequential([\n",
        "    Embedding(vocab_size, 16, input_length=max_length),\n",
        "    GlobalAveragePooling1D(),\n",
        "    Dense(16, activation='relu'),\n",
        "    Dense(1, activation='sigmoid')\n",
        "])\n",
        "\n",
        "# Compile and train the model\n",
        "model.compile(loss='binary_crossentropy', optimizer='adam', metrics=['accuracy'])\n",
        "model.fit(X_train, y_train, epochs=20, validation_split=0.1)\n",
        "\n",
        "# Evaluate the model on the test data\n",
        "loss, accuracy = model.evaluate(X_test, y_test)\n",
        "print(f\"Test accuracy: {accuracy}\")\n"
      ],
      "metadata": {
        "id": "zw728o255fiy",
        "colab": {
          "base_uri": "https://localhost:8080/"
        },
        "outputId": "2e84cd72-f6d4-41a7-e9d7-11495ec8e6bb"
      },
      "execution_count": null,
      "outputs": [
        {
          "output_type": "stream",
          "name": "stdout",
          "text": [
            "Epoch 1/20\n",
            "126/126 [==============================] - 2s 5ms/step - loss: 0.5303 - accuracy: 0.8659 - val_loss: 0.3954 - val_accuracy: 0.8565\n",
            "Epoch 2/20\n",
            "126/126 [==============================] - 0s 4ms/step - loss: 0.3580 - accuracy: 0.8671 - val_loss: 0.3703 - val_accuracy: 0.8565\n",
            "Epoch 3/20\n",
            "126/126 [==============================] - 1s 4ms/step - loss: 0.3354 - accuracy: 0.8671 - val_loss: 0.3449 - val_accuracy: 0.8565\n",
            "Epoch 4/20\n",
            "126/126 [==============================] - 0s 4ms/step - loss: 0.2971 - accuracy: 0.8671 - val_loss: 0.2936 - val_accuracy: 0.8565\n",
            "Epoch 5/20\n",
            "126/126 [==============================] - 1s 4ms/step - loss: 0.2265 - accuracy: 0.8838 - val_loss: 0.2109 - val_accuracy: 0.9081\n",
            "Epoch 6/20\n",
            "126/126 [==============================] - 0s 4ms/step - loss: 0.1451 - accuracy: 0.9484 - val_loss: 0.1441 - val_accuracy: 0.9574\n",
            "Epoch 7/20\n",
            "126/126 [==============================] - 1s 4ms/step - loss: 0.0904 - accuracy: 0.9766 - val_loss: 0.1098 - val_accuracy: 0.9641\n",
            "Epoch 8/20\n",
            "126/126 [==============================] - 0s 4ms/step - loss: 0.0615 - accuracy: 0.9838 - val_loss: 0.0909 - val_accuracy: 0.9664\n",
            "Epoch 9/20\n",
            "126/126 [==============================] - 1s 5ms/step - loss: 0.0467 - accuracy: 0.9880 - val_loss: 0.0808 - val_accuracy: 0.9686\n",
            "Epoch 10/20\n",
            "126/126 [==============================] - 0s 4ms/step - loss: 0.0375 - accuracy: 0.9900 - val_loss: 0.0772 - val_accuracy: 0.9686\n",
            "Epoch 11/20\n",
            "126/126 [==============================] - 1s 4ms/step - loss: 0.0312 - accuracy: 0.9910 - val_loss: 0.0731 - val_accuracy: 0.9686\n",
            "Epoch 12/20\n",
            "126/126 [==============================] - 1s 4ms/step - loss: 0.0265 - accuracy: 0.9925 - val_loss: 0.0749 - val_accuracy: 0.9686\n",
            "Epoch 13/20\n",
            "126/126 [==============================] - 0s 4ms/step - loss: 0.0233 - accuracy: 0.9935 - val_loss: 0.0645 - val_accuracy: 0.9776\n",
            "Epoch 14/20\n",
            "126/126 [==============================] - 1s 4ms/step - loss: 0.0203 - accuracy: 0.9935 - val_loss: 0.0690 - val_accuracy: 0.9753\n",
            "Epoch 15/20\n",
            "126/126 [==============================] - 1s 4ms/step - loss: 0.0177 - accuracy: 0.9953 - val_loss: 0.0661 - val_accuracy: 0.9753\n",
            "Epoch 16/20\n",
            "126/126 [==============================] - 0s 4ms/step - loss: 0.0158 - accuracy: 0.9958 - val_loss: 0.0669 - val_accuracy: 0.9753\n",
            "Epoch 17/20\n",
            "126/126 [==============================] - 1s 4ms/step - loss: 0.0141 - accuracy: 0.9963 - val_loss: 0.0651 - val_accuracy: 0.9776\n",
            "Epoch 18/20\n",
            "126/126 [==============================] - 1s 4ms/step - loss: 0.0124 - accuracy: 0.9973 - val_loss: 0.0686 - val_accuracy: 0.9776\n",
            "Epoch 19/20\n",
            "126/126 [==============================] - 1s 5ms/step - loss: 0.0116 - accuracy: 0.9965 - val_loss: 0.0669 - val_accuracy: 0.9776\n",
            "Epoch 20/20\n",
            "126/126 [==============================] - 1s 6ms/step - loss: 0.0102 - accuracy: 0.9968 - val_loss: 0.0687 - val_accuracy: 0.9776\n",
            "35/35 [==============================] - 0s 2ms/step - loss: 0.0678 - accuracy: 0.9821\n",
            "Test accuracy: 0.9820627570152283\n"
          ]
        }
      ]
    },
    {
      "cell_type": "markdown",
      "source": [
        "### RNN"
      ],
      "metadata": {
        "id": "dkzbiQFxE06h"
      }
    },
    {
      "cell_type": "code",
      "source": [
        "\n",
        "# Define the RNN model\n",
        "model_rnn = Sequential([\n",
        "    Embedding(vocab_size, 16, input_length=max_length),\n",
        "    SimpleRNN(32),\n",
        "    Dense(1, activation='sigmoid')\n",
        "])\n",
        "\n",
        "# Modify learning rate\n",
        "optimizer = Adam(learning_rate=.0001)\n",
        "\n",
        "# Compile and train the model\n",
        "model_rnn.compile(loss='binary_crossentropy', optimizer=optimizer, metrics=['accuracy'])\n",
        "model_rnn.fit(X_train, y_train, epochs=20, validation_split=0.1)\n",
        "\n",
        "# Evaluate the model on the test data\n",
        "loss, accuracy = model_rnn.evaluate(X_test, y_test)\n",
        "print(f\"Test accuracy (RNN): {accuracy}\")"
      ],
      "metadata": {
        "colab": {
          "base_uri": "https://localhost:8080/"
        },
        "id": "hVPJzhsCE5xF",
        "outputId": "d689fe87-0c30-4953-fd53-433b59d58199"
      },
      "execution_count": null,
      "outputs": [
        {
          "output_type": "stream",
          "name": "stdout",
          "text": [
            "Epoch 1/20\n",
            "126/126 [==============================] - 6s 32ms/step - loss: 0.5063 - accuracy: 0.8340 - val_loss: 0.4236 - val_accuracy: 0.8565\n",
            "Epoch 2/20\n",
            "126/126 [==============================] - 4s 30ms/step - loss: 0.3983 - accuracy: 0.8671 - val_loss: 0.4114 - val_accuracy: 0.8565\n",
            "Epoch 3/20\n",
            "126/126 [==============================] - 5s 43ms/step - loss: 0.3925 - accuracy: 0.8671 - val_loss: 0.4114 - val_accuracy: 0.8565\n",
            "Epoch 4/20\n",
            "126/126 [==============================] - 4s 30ms/step - loss: 0.3920 - accuracy: 0.8671 - val_loss: 0.4115 - val_accuracy: 0.8565\n",
            "Epoch 5/20\n",
            "126/126 [==============================] - 4s 29ms/step - loss: 0.3920 - accuracy: 0.8671 - val_loss: 0.4119 - val_accuracy: 0.8565\n",
            "Epoch 6/20\n",
            "126/126 [==============================] - 5s 41ms/step - loss: 0.3920 - accuracy: 0.8671 - val_loss: 0.4118 - val_accuracy: 0.8565\n",
            "Epoch 7/20\n",
            "126/126 [==============================] - 4s 29ms/step - loss: 0.3919 - accuracy: 0.8671 - val_loss: 0.4116 - val_accuracy: 0.8565\n",
            "Epoch 8/20\n",
            "126/126 [==============================] - 4s 30ms/step - loss: 0.3920 - accuracy: 0.8671 - val_loss: 0.4115 - val_accuracy: 0.8565\n",
            "Epoch 9/20\n",
            "126/126 [==============================] - 5s 41ms/step - loss: 0.3920 - accuracy: 0.8671 - val_loss: 0.4118 - val_accuracy: 0.8565\n",
            "Epoch 10/20\n",
            "126/126 [==============================] - 4s 30ms/step - loss: 0.3920 - accuracy: 0.8671 - val_loss: 0.4117 - val_accuracy: 0.8565\n",
            "Epoch 11/20\n",
            "126/126 [==============================] - 4s 31ms/step - loss: 0.3920 - accuracy: 0.8671 - val_loss: 0.4121 - val_accuracy: 0.8565\n",
            "Epoch 12/20\n",
            "126/126 [==============================] - 5s 41ms/step - loss: 0.3920 - accuracy: 0.8671 - val_loss: 0.4117 - val_accuracy: 0.8565\n",
            "Epoch 13/20\n",
            "126/126 [==============================] - 4s 30ms/step - loss: 0.3920 - accuracy: 0.8671 - val_loss: 0.4120 - val_accuracy: 0.8565\n",
            "Epoch 14/20\n",
            "126/126 [==============================] - 4s 31ms/step - loss: 0.3921 - accuracy: 0.8671 - val_loss: 0.4119 - val_accuracy: 0.8565\n",
            "Epoch 15/20\n",
            "126/126 [==============================] - 6s 44ms/step - loss: 0.3920 - accuracy: 0.8671 - val_loss: 0.4115 - val_accuracy: 0.8565\n",
            "Epoch 16/20\n",
            "126/126 [==============================] - 6s 45ms/step - loss: 0.3919 - accuracy: 0.8671 - val_loss: 0.4120 - val_accuracy: 0.8565\n",
            "Epoch 17/20\n",
            "126/126 [==============================] - 4s 30ms/step - loss: 0.3922 - accuracy: 0.8671 - val_loss: 0.4122 - val_accuracy: 0.8565\n",
            "Epoch 18/20\n",
            "126/126 [==============================] - 5s 41ms/step - loss: 0.3920 - accuracy: 0.8671 - val_loss: 0.4115 - val_accuracy: 0.8565\n",
            "Epoch 19/20\n",
            "126/126 [==============================] - 4s 30ms/step - loss: 0.3920 - accuracy: 0.8671 - val_loss: 0.4115 - val_accuracy: 0.8565\n",
            "Epoch 20/20\n",
            "126/126 [==============================] - 4s 30ms/step - loss: 0.3921 - accuracy: 0.8671 - val_loss: 0.4118 - val_accuracy: 0.8565\n",
            "35/35 [==============================] - 0s 8ms/step - loss: 0.3949 - accuracy: 0.8655\n",
            "Test accuracy (RNN): 0.865470826625824\n"
          ]
        }
      ]
    },
    {
      "cell_type": "markdown",
      "source": [
        "### GloVe embedding"
      ],
      "metadata": {
        "id": "pv_bf4ZuHmzE"
      }
    },
    {
      "cell_type": "code",
      "source": [
        "# Load 100D GloVe embeddings\n",
        "glove_file_path = 'sample_data/glove.6B.100d.txt'\n",
        "embeddings_index = {}\n",
        "with open(glove_file_path, encoding='utf-8') as file:\n",
        "    for line in file:\n",
        "        values = line.split()\n",
        "        word = values[0]\n",
        "        coefs = np.asarray(values[1:], dtype='float32')\n",
        "        embeddings_index[word] = coefs\n",
        "\n",
        "# Create the embedding matrix\n",
        "embedding_dim = 100\n",
        "embedding_matrix = np.zeros((vocab_size, embedding_dim))\n",
        "for word, i in tokenizer.word_index.items():\n",
        "    if i < vocab_size:\n",
        "        embedding_vector = embeddings_index.get(word)\n",
        "        if embedding_vector is not None:\n",
        "            embedding_matrix[i] = embedding_vector"
      ],
      "metadata": {
        "id": "mQLMgB2IHmOd"
      },
      "execution_count": null,
      "outputs": []
    },
    {
      "cell_type": "code",
      "source": [
        "# Define the model with GloVe embeddings\n",
        "model_glove = Sequential([\n",
        "    Embedding(vocab_size, embedding_dim, input_length=max_length, weights=[embedding_matrix], trainable=False),\n",
        "    SimpleRNN(32),\n",
        "    Dense(1, activation='sigmoid')\n",
        "])\n",
        "\n",
        "# Compile and train the model\n",
        "model_glove.compile(loss='binary_crossentropy', optimizer='adam', metrics=['accuracy'])\n",
        "model_glove.fit(X_train, y_train, epochs=20, validation_split=0.1)\n",
        "\n",
        "# Evaluate the model on the test data\n",
        "loss, accuracy = model_glove.evaluate(X_test, y_test)\n",
        "print(f\"Test accuracy (GloVe): {accuracy}\")\n"
      ],
      "metadata": {
        "colab": {
          "base_uri": "https://localhost:8080/"
        },
        "id": "vjmUBQDDJJBu",
        "outputId": "5b42ef94-3e12-4bc2-b8a7-cbef577db823"
      },
      "execution_count": null,
      "outputs": [
        {
          "output_type": "stream",
          "name": "stdout",
          "text": [
            "Epoch 1/20\n",
            "126/126 [==============================] - 5s 28ms/step - loss: 0.4335 - accuracy: 0.8070 - val_loss: 0.3601 - val_accuracy: 0.8565\n",
            "Epoch 2/20\n",
            "126/126 [==============================] - 5s 38ms/step - loss: 0.3483 - accuracy: 0.8671 - val_loss: 0.3502 - val_accuracy: 0.8565\n",
            "Epoch 3/20\n",
            "126/126 [==============================] - 3s 25ms/step - loss: 0.3214 - accuracy: 0.8621 - val_loss: 0.3542 - val_accuracy: 0.8565\n",
            "Epoch 4/20\n",
            "126/126 [==============================] - 3s 25ms/step - loss: 0.3053 - accuracy: 0.8659 - val_loss: 0.4405 - val_accuracy: 0.8565\n",
            "Epoch 5/20\n",
            "126/126 [==============================] - 3s 25ms/step - loss: 0.3933 - accuracy: 0.8669 - val_loss: 0.4178 - val_accuracy: 0.8565\n",
            "Epoch 6/20\n",
            "126/126 [==============================] - 5s 37ms/step - loss: 0.3900 - accuracy: 0.8669 - val_loss: 0.4011 - val_accuracy: 0.8565\n",
            "Epoch 7/20\n",
            "126/126 [==============================] - 3s 25ms/step - loss: 0.3849 - accuracy: 0.8669 - val_loss: 0.3994 - val_accuracy: 0.8565\n",
            "Epoch 8/20\n",
            "126/126 [==============================] - 3s 25ms/step - loss: 0.3637 - accuracy: 0.8646 - val_loss: 0.3300 - val_accuracy: 0.8386\n",
            "Epoch 9/20\n",
            "126/126 [==============================] - 4s 29ms/step - loss: 0.3687 - accuracy: 0.8549 - val_loss: 0.4115 - val_accuracy: 0.8565\n",
            "Epoch 10/20\n",
            "126/126 [==============================] - 4s 33ms/step - loss: 0.3930 - accuracy: 0.8669 - val_loss: 0.4116 - val_accuracy: 0.8565\n",
            "Epoch 11/20\n",
            "126/126 [==============================] - 3s 25ms/step - loss: 0.3931 - accuracy: 0.8669 - val_loss: 0.4139 - val_accuracy: 0.8565\n",
            "Epoch 12/20\n",
            "126/126 [==============================] - 3s 25ms/step - loss: 0.3923 - accuracy: 0.8669 - val_loss: 0.4121 - val_accuracy: 0.8565\n",
            "Epoch 13/20\n",
            "126/126 [==============================] - 4s 36ms/step - loss: 0.3925 - accuracy: 0.8671 - val_loss: 0.4113 - val_accuracy: 0.8565\n",
            "Epoch 14/20\n",
            "126/126 [==============================] - 3s 25ms/step - loss: 0.3930 - accuracy: 0.8671 - val_loss: 0.4114 - val_accuracy: 0.8565\n",
            "Epoch 15/20\n",
            "126/126 [==============================] - 3s 25ms/step - loss: 0.3925 - accuracy: 0.8671 - val_loss: 0.4131 - val_accuracy: 0.8565\n",
            "Epoch 16/20\n",
            "126/126 [==============================] - 3s 25ms/step - loss: 0.3935 - accuracy: 0.8671 - val_loss: 0.4168 - val_accuracy: 0.8565\n",
            "Epoch 17/20\n",
            "126/126 [==============================] - 5s 37ms/step - loss: 0.3933 - accuracy: 0.8671 - val_loss: 0.4157 - val_accuracy: 0.8565\n",
            "Epoch 18/20\n",
            "126/126 [==============================] - 3s 26ms/step - loss: 0.3927 - accuracy: 0.8671 - val_loss: 0.4174 - val_accuracy: 0.8565\n",
            "Epoch 19/20\n",
            "126/126 [==============================] - 3s 25ms/step - loss: 0.3930 - accuracy: 0.8671 - val_loss: 0.4122 - val_accuracy: 0.8565\n",
            "Epoch 20/20\n",
            "126/126 [==============================] - 4s 28ms/step - loss: 0.3917 - accuracy: 0.8671 - val_loss: 0.4178 - val_accuracy: 0.8565\n",
            "35/35 [==============================] - 1s 14ms/step - loss: 0.4009 - accuracy: 0.8637\n",
            "Test accuracy (GloVe): 0.8636771440505981\n"
          ]
        }
      ]
    },
    {
      "cell_type": "markdown",
      "source": [
        "## Results"
      ],
      "metadata": {
        "id": "kYIypz6LKycZ"
      }
    },
    {
      "cell_type": "code",
      "source": [
        "# Sequential\n",
        "_, seq_accuracy = model.evaluate(X_test, y_test, verbose=0)\n",
        "\n",
        "# SimpleRNN\n",
        "_, rnn_accuracy = model_rnn.evaluate(X_test, y_test, verbose=0)\n",
        "\n",
        "# SimpleRNN with GloVe\n",
        "_, glove_accuracy = model_glove.evaluate(X_test, y_test, verbose=0)\n",
        "\n",
        "# Print the accuracy scores for each model\n",
        "print(f\"Test accuracy (Sequential): {seq_accuracy:.2f}\")\n",
        "print(f\"Test accuracy (SimpleRNN): {rnn_accuracy:.2f}\")\n",
        "print(f\"Test accuracy (SimpleRNN with GloVe embeddings): {glove_accuracy:.2f}\")"
      ],
      "metadata": {
        "colab": {
          "base_uri": "https://localhost:8080/"
        },
        "id": "Z5hmNHeqKz3e",
        "outputId": "50891279-f250-447c-eada-67d6d620407a"
      },
      "execution_count": null,
      "outputs": [
        {
          "output_type": "stream",
          "name": "stdout",
          "text": [
            "Test accuracy (Sequential): 0.98\n",
            "Test accuracy (SimpleRNN): 0.87\n",
            "Test accuracy (SimpleRNN with GloVe embeddings): 0.86\n"
          ]
        }
      ]
    },
    {
      "cell_type": "markdown",
      "source": [
        "## Summary & Analysis\n",
        "The highest performing deep learning model was actually the sequential model, which is the most simple implementation. It makes sense that it works better because this dataset is very simple and a very simple instance of classification. \n",
        "### RNN\n",
        "The SimpleRNN capped at 86.7% with no special embeddings. This was lower than the sequential model, but it is still high and it is able to reach this accuracy after very few epochs.\n",
        "### Embeddings\n",
        "I implemented GloVe embeddings, a powerful word embedding model. It actually reduced the SimpleRNN's learning capabilities, making it take more epochs in order to reach the same max accuracy. "
      ],
      "metadata": {
        "id": "SzpcoOQWMR0m"
      }
    }
  ]
}