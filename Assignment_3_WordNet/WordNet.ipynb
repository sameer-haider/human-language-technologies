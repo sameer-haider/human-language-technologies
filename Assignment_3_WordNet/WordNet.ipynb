{
  "nbformat": 4,
  "nbformat_minor": 0,
  "metadata": {
    "colab": {
      "provenance": []
    },
    "kernelspec": {
      "name": "python3",
      "display_name": "Python 3"
    },
    "language_info": {
      "name": "python"
    }
  },
  "cells": [
    {
      "cell_type": "markdown",
      "source": [
        "Downloads"
      ],
      "metadata": {
        "id": "jx-uUU635oRV"
      }
    },
    {
      "cell_type": "code",
      "source": [
        "import nltk\n",
        "nltk.download('wordnet')\n",
        "nltk.download('omw-1.4')\n",
        "nltk.download('sentiwordnet')\n",
        "nltk.download('inaugural')\n",
        "nltk.download('gutenberg')\n",
        "nltk.download('genesis')\n",
        "nltk.download('nps_chat')\n",
        "nltk.download('webtext')\n",
        "nltk.download('treebank')"
      ],
      "metadata": {
        "colab": {
          "base_uri": "https://localhost:8080/"
        },
        "id": "EuW-HajB5nFW",
        "outputId": "fd79e8bc-4763-4a66-8a7b-93c337082383"
      },
      "execution_count": 1,
      "outputs": [
        {
          "output_type": "stream",
          "name": "stderr",
          "text": [
            "[nltk_data] Downloading package wordnet to /root/nltk_data...\n",
            "[nltk_data]   Package wordnet is already up-to-date!\n",
            "[nltk_data] Downloading package omw-1.4 to /root/nltk_data...\n",
            "[nltk_data]   Package omw-1.4 is already up-to-date!\n",
            "[nltk_data] Downloading package sentiwordnet to /root/nltk_data...\n",
            "[nltk_data]   Package sentiwordnet is already up-to-date!\n",
            "[nltk_data] Downloading package inaugural to /root/nltk_data...\n",
            "[nltk_data]   Package inaugural is already up-to-date!\n",
            "[nltk_data] Downloading package gutenberg to /root/nltk_data...\n",
            "[nltk_data]   Package gutenberg is already up-to-date!\n",
            "[nltk_data] Downloading package genesis to /root/nltk_data...\n",
            "[nltk_data]   Package genesis is already up-to-date!\n",
            "[nltk_data] Downloading package nps_chat to /root/nltk_data...\n",
            "[nltk_data]   Package nps_chat is already up-to-date!\n",
            "[nltk_data] Downloading package webtext to /root/nltk_data...\n",
            "[nltk_data]   Package webtext is already up-to-date!\n",
            "[nltk_data] Downloading package treebank to /root/nltk_data...\n",
            "[nltk_data]   Package treebank is already up-to-date!\n"
          ]
        },
        {
          "output_type": "execute_result",
          "data": {
            "text/plain": [
              "True"
            ]
          },
          "metadata": {},
          "execution_count": 1
        }
      ]
    },
    {
      "cell_type": "markdown",
      "source": [
        "### Imports"
      ],
      "metadata": {
        "id": "iGFAsquB3lvd"
      }
    },
    {
      "cell_type": "code",
      "execution_count": 2,
      "metadata": {
        "id": "nnfnSt_4zMco",
        "colab": {
          "base_uri": "https://localhost:8080/"
        },
        "outputId": "5d1f8991-a5af-4461-82d6-57e62952b33f"
      },
      "outputs": [
        {
          "output_type": "stream",
          "name": "stdout",
          "text": [
            "*** Introductory Examples for the NLTK Book ***\n",
            "Loading text1, ..., text9 and sent1, ..., sent9\n",
            "Type the name of the text or sentence to view it.\n",
            "Type: 'texts()' or 'sents()' to list the materials.\n",
            "text1: Moby Dick by Herman Melville 1851\n",
            "text2: Sense and Sensibility by Jane Austen 1811\n",
            "text3: The Book of Genesis\n",
            "text4: Inaugural Address Corpus\n",
            "text5: Chat Corpus\n",
            "text6: Monty Python and the Holy Grail\n",
            "text7: Wall Street Journal\n",
            "text8: Personals Corpus\n",
            "text9: The Man Who Was Thursday by G . K . Chesterton 1908\n"
          ]
        }
      ],
      "source": [
        "from nltk.corpus import wordnet as wn\n",
        "from nltk.stem import WordNetLemmatizer\n",
        "from nltk.book import *"
      ]
    },
    {
      "cell_type": "markdown",
      "source": [
        "### Selecting a noun ('cat') and outputting all synsets"
      ],
      "metadata": {
        "id": "r3M8Npyp3lD9"
      }
    },
    {
      "cell_type": "code",
      "source": [
        "wn.synsets('cat')"
      ],
      "metadata": {
        "colab": {
          "base_uri": "https://localhost:8080/"
        },
        "id": "i0Cueit53Kvn",
        "outputId": "55fbff02-8bc5-4d68-8cca-0edcbb278f67"
      },
      "execution_count": 3,
      "outputs": [
        {
          "output_type": "execute_result",
          "data": {
            "text/plain": [
              "[Synset('cat.n.01'),\n",
              " Synset('guy.n.01'),\n",
              " Synset('cat.n.03'),\n",
              " Synset('kat.n.01'),\n",
              " Synset('cat-o'-nine-tails.n.01'),\n",
              " Synset('caterpillar.n.02'),\n",
              " Synset('big_cat.n.01'),\n",
              " Synset('computerized_tomography.n.01'),\n",
              " Synset('cat.v.01'),\n",
              " Synset('vomit.v.01')]"
            ]
          },
          "metadata": {},
          "execution_count": 3
        }
      ]
    },
    {
      "cell_type": "markdown",
      "source": [
        "### Select one synset ('vomit'). Extract its definition, usage examples, and lemmas."
      ],
      "metadata": {
        "id": "XMxiwbTY4HUV"
      }
    },
    {
      "cell_type": "code",
      "source": [
        "guy = wn.synset('guy.n.01')\n",
        "definition = guy.definition()\n",
        "examples = guy.examples()\n",
        "lemmas = [l.name() for l in guy.lemmas()]\n",
        "print(\"Vomit synset attributes:\")\n",
        "print(\"Definition:\", definition)\n",
        "print(\"Examples:\", examples)\n",
        "print(\"Lemmas:\", lemmas)"
      ],
      "metadata": {
        "colab": {
          "base_uri": "https://localhost:8080/"
        },
        "id": "ZWUVr-j93v7F",
        "outputId": "16e214bf-4d8e-458f-c85f-1dfdb946ed57"
      },
      "execution_count": 4,
      "outputs": [
        {
          "output_type": "stream",
          "name": "stdout",
          "text": [
            "Vomit synset attributes:\n",
            "Definition: an informal term for a youth or man\n",
            "Examples: ['a nice guy', \"the guy's only doing it for some doll\"]\n",
            "Lemmas: ['guy', 'cat', 'hombre', 'bozo']\n"
          ]
        }
      ]
    },
    {
      "cell_type": "markdown",
      "source": [
        "### Traverse up the hierarchy"
      ],
      "metadata": {
        "id": "VE59qamj4-Y5"
      }
    },
    {
      "cell_type": "code",
      "source": [
        "# Code from kjmazidi/NLP/Part_2-Words/Chapter_07_WordNet/7.2_wordnet2_hierarchy.ipynb\n",
        "hyp = guy.hypernyms()[0]\n",
        "top = wn.synset('entity.n.01')\n",
        "print(guy)\n",
        "while hyp:\n",
        "    print(hyp)\n",
        "    if hyp == top:\n",
        "        break\n",
        "    if hyp.hypernyms():\n",
        "        hyp = hyp.hypernyms()[0]"
      ],
      "metadata": {
        "colab": {
          "base_uri": "https://localhost:8080/"
        },
        "id": "RMV9MxAQ5Chb",
        "outputId": "7c254ba3-60cf-4821-a9d1-b5c3d597c3ff"
      },
      "execution_count": 5,
      "outputs": [
        {
          "output_type": "stream",
          "name": "stdout",
          "text": [
            "Synset('guy.n.01')\n",
            "Synset('man.n.01')\n",
            "Synset('adult.n.01')\n",
            "Synset('person.n.01')\n",
            "Synset('causal_agent.n.01')\n",
            "Synset('physical_entity.n.01')\n",
            "Synset('entity.n.01')\n"
          ]
        }
      ]
    },
    {
      "cell_type": "markdown",
      "source": [
        "It looks like wordnet organizes nouns in a clear hierarchy, each hypernym getting more abstract and general as you go down the hierarchy."
      ],
      "metadata": {
        "id": "H2oBWCHz8nUo"
      }
    },
    {
      "cell_type": "markdown",
      "source": [
        "### Output the following: hypernyms, hyponyms, meronyms, holonyms, antonym. "
      ],
      "metadata": {
        "id": "ohiPZ5ni9BWn"
      }
    },
    {
      "cell_type": "code",
      "source": [
        "print(f\"Hypernyms: {guy.hypernyms()}\")\n",
        "print(f\"Hyponyms: {guy.hyponyms()}\")\n",
        "print(f\"Meronyms: {guy.part_meronyms()}\")\n",
        "print(f\"Holonyms: {guy.part_holonyms()}\")\n",
        "print(f\"Antonyms: {guy.lemmas()[0].antonyms()}\")"
      ],
      "metadata": {
        "colab": {
          "base_uri": "https://localhost:8080/"
        },
        "id": "hziNndcQ81Pk",
        "outputId": "b31ee2d6-1b10-4215-d8a1-ef369f24f191"
      },
      "execution_count": 6,
      "outputs": [
        {
          "output_type": "stream",
          "name": "stdout",
          "text": [
            "Hypernyms: [Synset('man.n.01')]\n",
            "Hyponyms: [Synset('sod.n.04')]\n",
            "Meronyms: []\n",
            "Holonyms: []\n",
            "Antonyms: []\n"
          ]
        }
      ]
    },
    {
      "cell_type": "markdown",
      "source": [
        "### Select a verb ('vomit'). Output all synsets."
      ],
      "metadata": {
        "id": "mdwJlMx8-H42"
      }
    },
    {
      "cell_type": "code",
      "source": [
        "wn.synsets('vomit')"
      ],
      "metadata": {
        "colab": {
          "base_uri": "https://localhost:8080/"
        },
        "id": "ELUqKAAtA1vv",
        "outputId": "fd6f9ced-aade-49a3-a117-fe675eda65d3"
      },
      "execution_count": 7,
      "outputs": [
        {
          "output_type": "execute_result",
          "data": {
            "text/plain": [
              "[Synset('vomit.n.01'),\n",
              " Synset('emetic.n.01'),\n",
              " Synset('vomit.n.03'),\n",
              " Synset('vomit.v.01')]"
            ]
          },
          "metadata": {},
          "execution_count": 7
        }
      ]
    },
    {
      "cell_type": "markdown",
      "source": [
        "### Select one synset ('emetic'). Output definition, examples, and lemmas."
      ],
      "metadata": {
        "id": "XOMSdZR4BGCD"
      }
    },
    {
      "cell_type": "code",
      "source": [
        "emetic = wn.synset('emetic.n.01')\n",
        "definition = emetic.definition()\n",
        "examples = emetic.examples()\n",
        "lemmas = [l.name() for l in emetic.lemmas()]\n",
        "print(\"Emetic synset attributes:\")\n",
        "print(\"Definition:\", definition)\n",
        "print(\"Examples:\", examples)\n",
        "print(\"Lemmas:\", lemmas)"
      ],
      "metadata": {
        "colab": {
          "base_uri": "https://localhost:8080/"
        },
        "id": "bD4hENlV_c1K",
        "outputId": "8ac80fad-214e-4c8c-cf9c-61b590dc50bf"
      },
      "execution_count": 8,
      "outputs": [
        {
          "output_type": "stream",
          "name": "stdout",
          "text": [
            "Emetic synset attributes:\n",
            "Definition: a medicine that induces nausea and vomiting\n",
            "Examples: []\n",
            "Lemmas: ['emetic', 'vomit', 'vomitive', 'nauseant']\n"
          ]
        }
      ]
    },
    {
      "cell_type": "markdown",
      "source": [
        "### Traverse up the hierarchy"
      ],
      "metadata": {
        "id": "fAG0Th9WAjPI"
      }
    },
    {
      "cell_type": "code",
      "source": [
        "# Code from kjmazidi/NLP/Part_2-Words/Chapter_07_WordNet/7.2_wordnet2_hierarchy.ipynb\n",
        "hyp = emetic.hypernyms()[0]\n",
        "top = wn.synset('entity.n.01')\n",
        "print(emetic)\n",
        "while hyp:\n",
        "    print(hyp)\n",
        "    if hyp == top:\n",
        "        break\n",
        "    if hyp.hypernyms():\n",
        "        hyp = hyp.hypernyms()[0]"
      ],
      "metadata": {
        "colab": {
          "base_uri": "https://localhost:8080/"
        },
        "id": "kTXJpeFiApOp",
        "outputId": "20601f9c-cb15-4ff9-bbb5-703751b94659"
      },
      "execution_count": 9,
      "outputs": [
        {
          "output_type": "stream",
          "name": "stdout",
          "text": [
            "Synset('emetic.n.01')\n",
            "Synset('remedy.n.02')\n",
            "Synset('medicine.n.02')\n",
            "Synset('drug.n.01')\n",
            "Synset('agent.n.03')\n",
            "Synset('causal_agent.n.01')\n",
            "Synset('physical_entity.n.01')\n",
            "Synset('entity.n.01')\n"
          ]
        }
      ]
    },
    {
      "cell_type": "markdown",
      "source": [
        "Similarly, the subsequent hypernyms get more and more abstract and general till it reaches entity.:\n"
      ],
      "metadata": {
        "id": "emthU35UBiWT"
      }
    },
    {
      "cell_type": "markdown",
      "source": [
        "### Use morphy to find all different forms of words"
      ],
      "metadata": {
        "id": "YqleFrdzC3nV"
      }
    },
    {
      "cell_type": "code",
      "source": [
        "word = 'emetic'\n",
        "forms = []\n",
        "for pos in [wn.NOUN, wn.ADV, wn.ADJ, wn.VERB]:\n",
        "  pos_forms = wn.morphy(word, pos)\n",
        "  if pos_forms:\n",
        "    forms.append(pos_forms)\n",
        "\n",
        "print(\"All forms of emetic:\", forms)"
      ],
      "metadata": {
        "colab": {
          "base_uri": "https://localhost:8080/"
        },
        "id": "jCLaDHU-C2ge",
        "outputId": "e81b4ae1-3053-4097-f472-773d661421fa"
      },
      "execution_count": 10,
      "outputs": [
        {
          "output_type": "stream",
          "name": "stdout",
          "text": [
            "All forms of emetic: ['emetic']\n"
          ]
        }
      ]
    },
    {
      "cell_type": "markdown",
      "source": [
        "Only one form of 'emetic'"
      ],
      "metadata": {
        "id": "phctJnJ47mI_"
      }
    },
    {
      "cell_type": "markdown",
      "source": [
        "### Select two words that you think might be similar. Find the specific synsets you are interested in."
      ],
      "metadata": {
        "id": "1tU1hkHY7vHr"
      }
    },
    {
      "cell_type": "code",
      "source": [
        "word1, word2 = 'house', 'residence'\n",
        "print(wn.synsets(f'{word1}'))\n",
        "print(wn.synsets(f'{word2}'), '\\n')\n",
        "\n",
        "synset1, synset2 = wn.synset(\"house.n.01\"), wn.synset(\"residence.n.01\")\n",
        "print(synset1.definition())\n",
        "print(synset2.definition())"
      ],
      "metadata": {
        "colab": {
          "base_uri": "https://localhost:8080/"
        },
        "id": "YbxeO6e0-jH3",
        "outputId": "8286a63c-bedf-4412-cb19-13acb0abd2af"
      },
      "execution_count": 11,
      "outputs": [
        {
          "output_type": "stream",
          "name": "stdout",
          "text": [
            "[Synset('house.n.01'), Synset('firm.n.01'), Synset('house.n.03'), Synset('house.n.04'), Synset('house.n.05'), Synset('house.n.06'), Synset('house.n.07'), Synset('sign_of_the_zodiac.n.01'), Synset('house.n.09'), Synset('family.n.01'), Synset('theater.n.01'), Synset('house.n.12'), Synset('house.v.01'), Synset('house.v.02')]\n",
            "[Synset('residence.n.01'), Synset('residence.n.02'), Synset('residency.n.01'), Synset('mansion.n.02')] \n",
            "\n",
            "a dwelling that serves as living quarters for one or more families\n",
            "any address at which you dwell more than temporarily\n"
          ]
        }
      ]
    },
    {
      "cell_type": "markdown",
      "source": [
        "### Run the Wu-Palmer similarity metric and the Lesk algorithm. Write a couple of sentences with your observations."
      ],
      "metadata": {
        "id": "mLXG-hHBA4wR"
      }
    },
    {
      "cell_type": "code",
      "source": [
        "from nltk.wsd import lesk\n",
        "\n",
        "wu_palmer = synset1.wup_similarity(synset2)\n",
        "sent1 = \"I stayed at my house today, the place where I live.\".split()\n",
        "sent2 = \"I stayed at my residence today, the place where I live.\".split()\n",
        "lesk1 = lesk(sent1, 'house')\n",
        "lesk2 = lesk(sent2, 'residence')\n",
        "\n",
        "print(f\"Wu-palmer metric: {wu_palmer}\")\n",
        "print(f\"Lesk result with house.n.01 synset of house: {lesk1}\")\n",
        "print(f\"Lesk result with residence.n.01 synset of residence: {lesk2}\")"
      ],
      "metadata": {
        "colab": {
          "base_uri": "https://localhost:8080/"
        },
        "id": "SA5PzrCR7rAM",
        "outputId": "c0c9a1fb-2144-42f4-e5c6-ce23abc8cb39"
      },
      "execution_count": 12,
      "outputs": [
        {
          "output_type": "stream",
          "name": "stdout",
          "text": [
            "Wu-palmer metric: 0.375\n",
            "Lesk result with house.n.01 synset of house: Synset('house.n.09')\n",
            "Lesk result with residence.n.01 synset of residence: Synset('residency.n.01')\n"
          ]
        }
      ]
    },
    {
      "cell_type": "markdown",
      "source": [
        "It appears that the two synsets have a decent amount of similarity. Though with the lesk algorithm, it only guessed residence.n.01 correctly based on the same context sentence.\n",
        "\n"
      ],
      "metadata": {
        "id": "mS7GDa0tCnGu"
      }
    },
    {
      "cell_type": "markdown",
      "source": [
        "### SentiWordNet\n",
        "SentiWordNet allows us to gather sentiment from words. This can be used in many ways, such as by analyzing the tone of a body of text."
      ],
      "metadata": {
        "id": "McA_8BqWgl38"
      }
    },
    {
      "cell_type": "markdown",
      "source": [
        "### Select an emotionally charged word. Find its senti-synsets and output the polarity scores for each word. "
      ],
      "metadata": {
        "id": "ruudDdtYhE--"
      }
    },
    {
      "cell_type": "code",
      "source": [
        "from nltk.corpus import sentiwordnet as swn\n",
        "\n",
        "word = \"hate\"\n",
        "\n",
        "synsets = swn.senti_synsets(word)\n",
        "\n",
        "for s in synsets:\n",
        "    print(\"Synset:\", s.synset.name())\n",
        "    print(\"Polarity scores (pos, neg, obj):\", s.pos_score(), s.neg_score(), s.obj_score())\n",
        "    print()"
      ],
      "metadata": {
        "id": "9doPpyKkDtWS",
        "colab": {
          "base_uri": "https://localhost:8080/"
        },
        "outputId": "b834946c-a26b-4d09-a644-f0c072c70be4"
      },
      "execution_count": 13,
      "outputs": [
        {
          "output_type": "stream",
          "name": "stdout",
          "text": [
            "Synset: hate.n.01\n",
            "Polarity scores (pos, neg, obj): 0.125 0.375 0.5\n",
            "\n",
            "Synset: hate.v.01\n",
            "Polarity scores (pos, neg, obj): 0.0 0.75 0.25\n",
            "\n"
          ]
        }
      ]
    },
    {
      "cell_type": "markdown",
      "source": [
        "### Make up a sentence. Output the polarity for each word in the sentence."
      ],
      "metadata": {
        "id": "uy8N4p7ciRsA"
      }
    },
    {
      "cell_type": "code",
      "source": [
        "sent = \"I absolutely enjoy the peace and quiet of an early morning breakfast.\".split()\n",
        "\n",
        "for word in sent:\n",
        "  lesk_find = lesk(sent, word)\n",
        "  if lesk_find:\n",
        "    synset = swn.senti_synset(lesk(sent, word).name())\n",
        "    print(\"Polarity scores of\", word,\"(pos, neg, obj):\", synset.pos_score(), synset.neg_score(), synset.obj_score())\n",
        "  \n",
        "  "
      ],
      "metadata": {
        "colab": {
          "base_uri": "https://localhost:8080/"
        },
        "id": "CntiF6wGgktW",
        "outputId": "99d3fa1e-e692-4cbc-aa48-6b98a980a6bd"
      },
      "execution_count": 14,
      "outputs": [
        {
          "output_type": "stream",
          "name": "stdout",
          "text": [
            "Polarity scores of I (pos, neg, obj): 0.0 0.0 1.0\n",
            "Polarity scores of absolutely (pos, neg, obj): 0.5 0.0 0.5\n",
            "Polarity scores of enjoy (pos, neg, obj): 1.0 0.0 0.0\n",
            "Polarity scores of peace (pos, neg, obj): 0.0 0.0 1.0\n",
            "Polarity scores of quiet (pos, neg, obj): 0.125 0.375 0.5\n",
            "Polarity scores of an (pos, neg, obj): 0.0 0.125 0.875\n",
            "Polarity scores of early (pos, neg, obj): 0.0 0.0 1.0\n",
            "Polarity scores of morning (pos, neg, obj): 0.0 0.0 1.0\n"
          ]
        }
      ]
    },
    {
      "cell_type": "markdown",
      "source": [
        "Most of the scores are either positive or objective leaning, which makes sense because the sentence is a positive observation. I feel that sentiwordnet could be very useful in marking different emotions and connotations throughout a body of text. For ML applications that analyze large bodies of text, this would be very useful."
      ],
      "metadata": {
        "id": "Z-H3fprclwGr"
      }
    },
    {
      "cell_type": "markdown",
      "source": [
        "### Collocation"
      ],
      "metadata": {
        "id": "uXxZkHy-meBa"
      }
    },
    {
      "cell_type": "markdown",
      "source": [
        "A collocation is a group of words that occur together frequently."
      ],
      "metadata": {
        "id": "alXZeoBTmwUE"
      }
    },
    {
      "cell_type": "markdown",
      "source": [
        "### Output collocations for text4, the Inaugural corpus."
      ],
      "metadata": {
        "id": "9OU804R9m4E6"
      }
    },
    {
      "cell_type": "code",
      "source": [
        "# Taken from kjmazidi/NLP/Part_2-Words/Chapter_07_WordNet/7.5_collocations.ipynb\n",
        "import itertools\n",
        "from nltk.collocations import BigramCollocationFinder\n",
        "from nltk.metrics import BigramAssocMeasures\n",
        " \n",
        "def bigram_word_feats(words, score_fn=BigramAssocMeasures.chi_sq, n=200):\n",
        "    bigram_finder = BigramCollocationFinder.from_words(words)\n",
        "    bigrams = bigram_finder.nbest(score_fn, n)\n",
        "    return dict([(ngram, True) for ngram in itertools.chain(words, bigrams)\n",
        "                if type(ngram) == tuple])\n",
        "\n",
        "bigram_word_feats(text4)"
      ],
      "metadata": {
        "colab": {
          "base_uri": "https://localhost:8080/"
        },
        "id": "QFv1AR7LiaeI",
        "outputId": "a44fc850-de37-4736-e54a-41eeeab3c068"
      },
      "execution_count": 15,
      "outputs": [
        {
          "output_type": "execute_result",
          "data": {
            "text/plain": [
              "{('/', '11'): True,\n",
              " ('25', 'straight'): True,\n",
              " ('Amelia', 'Island'): True,\n",
              " ('Apollo', 'astronauts'): True,\n",
              " ('Archibald', 'MacLeish'): True,\n",
              " ('BUSINESS', 'COOPERATION'): True,\n",
              " ('Barbary', 'Powers'): True,\n",
              " ('Belleau', 'Wood'): True,\n",
              " ('Boston', 'lawyer'): True,\n",
              " ('Britannic', 'Majesty'): True,\n",
              " ('COOPERATION', 'BY'): True,\n",
              " ('CRIMINAL', 'JUSTICE'): True,\n",
              " ('Calvin', 'Coolidge'): True,\n",
              " ('Cape', 'Horn'): True,\n",
              " ('Cardinal', 'Bernardin'): True,\n",
              " ('Chop', 'Hill'): True,\n",
              " ('Chosin', 'Reservoir'): True,\n",
              " ('Christmas', 'Eve'): True,\n",
              " ('Colonel', 'Goethals'): True,\n",
              " ('Dark', 'pictures'): True,\n",
              " ('Domestic', 'Product'): True,\n",
              " ('EIGHTEENTH', 'AMENDMENT'): True,\n",
              " ('Emancipation', 'Proclamation'): True,\n",
              " ('English', 'writer'): True,\n",
              " ('Fort', 'Sumter'): True,\n",
              " ('Gatun', 'dam'): True,\n",
              " ('Golden', 'Rule'): True,\n",
              " ('Gross', 'Domestic'): True,\n",
              " ('Growing', 'connections'): True,\n",
              " ('Hague', 'Tribunal'): True,\n",
              " ('Herein', 'flows'): True,\n",
              " ('Holy', 'Writ'): True,\n",
              " ('Hope', 'maketh'): True,\n",
              " ('Information', 'Age'): True,\n",
              " ('Iwo', 'Jima'): True,\n",
              " ('Joseph', 'Warren'): True,\n",
              " ('Julia', 'Coleman'): True,\n",
              " ('Khe', 'Sahn'): True,\n",
              " ('Lady', 'Michelle'): True,\n",
              " ('MANDATES', 'FROM'): True,\n",
              " ('Magna', 'Charta'): True,\n",
              " ('Mayflower', 'Compact'): True,\n",
              " ('Miss', 'Julia'): True,\n",
              " ('NATIONAL', 'INVESTIGATION'): True,\n",
              " ('Naval', 'Commissioners'): True,\n",
              " ('November', '1963'): True,\n",
              " ('OTHER', 'MANDATES'): True,\n",
              " ('Omaha', 'Beach'): True,\n",
              " ('PARTY', 'RESPONSIBILITIES'): True,\n",
              " ('PUBLIC', 'HEALTH'): True,\n",
              " ('Panama', 'Canal'): True,\n",
              " ('Penetrating', 'internally'): True,\n",
              " ('Persistent', 'importunity'): True,\n",
              " ('Philippine', 'Islands'): True,\n",
              " ('Pork', 'Chop'): True,\n",
              " ('Porto', 'Rico'): True,\n",
              " ('Reflecting', 'Pool'): True,\n",
              " ('Representative', 'Gillis'): True,\n",
              " ('Rio', 'de'): True,\n",
              " ('Rocky', 'Mountains'): True,\n",
              " ('SPECIAL', 'SESSION'): True,\n",
              " ('Saint', 'Augustine'): True,\n",
              " ('Santo', 'Domingo'): True,\n",
              " ('Seneca', 'Falls'): True,\n",
              " ('Superficial', 'observers'): True,\n",
              " ('TO', 'BUSINESS'): True,\n",
              " ('Valley', 'Forge'): True,\n",
              " ('WORLD', 'PEACE'): True,\n",
              " ('Winston', 'Churchill'): True,\n",
              " ('Xthe', 'unfinished'): True,\n",
              " ('adventurously', 'ascended'): True,\n",
              " ('agonizing', 'spasms'): True,\n",
              " ('approximate', 'disarmament'): True,\n",
              " ('astronauts', 'flew'): True,\n",
              " ('bona', 'fide'): True,\n",
              " ('broadcast', 'instantaneously'): True,\n",
              " ('bulky', 'merchandise'): True,\n",
              " ('casual', 'observer'): True,\n",
              " ('cheap', 'routes'): True,\n",
              " ('childhood', 'rocked'): True,\n",
              " ('clarified', 'atmosphere'): True,\n",
              " ('concise', 'enumeration'): True,\n",
              " ('convenient', 'coaling'): True,\n",
              " ('conventional', 'stipulations'): True,\n",
              " ('cordially', 'concur'): True,\n",
              " ('crippling', 'drought'): True,\n",
              " ('de', 'Janeiro'): True,\n",
              " ('defamatory', 'publications'): True,\n",
              " ('delicious', 'recollection'): True,\n",
              " ('delusive', 'speculations'): True,\n",
              " ('densely', 'populated'): True,\n",
              " ('deplorably', 'saps'): True,\n",
              " ('disfranchised', 'peasantry'): True,\n",
              " ('domiciliary', 'vexation'): True,\n",
              " ('efficiently', 'performs'): True,\n",
              " ('elder', 'Brutus'): True,\n",
              " ('elementary', 'decencies'): True,\n",
              " ('embittered', 'travail'): True,\n",
              " ('entailing', 'idleness'): True,\n",
              " ('errant', 'humors'): True,\n",
              " ('excursions', 'whither'): True,\n",
              " ('explicitly', 'parted'): True,\n",
              " ('exterminating', 'havoc'): True,\n",
              " ('famed', 'Rainbow'): True,\n",
              " ('fondest', 'predilection'): True,\n",
              " ('funeral', 'pile'): True,\n",
              " ('green', 'slopes'): True,\n",
              " ('habeas', 'corpus'): True,\n",
              " ('impassable', 'wall'): True,\n",
              " ('imperishable', 'glories'): True,\n",
              " ('impracticable', 'withal'): True,\n",
              " ('indignantly', 'frowning'): True,\n",
              " ('instantaneously', 'tobillions'): True,\n",
              " ('insurmountable', 'arose'): True,\n",
              " ('intensely', 'modem'): True,\n",
              " ('jailed', 'dissidents'): True,\n",
              " ('joyful', 'mountaintop'): True,\n",
              " ('keen', 'rivalry'): True,\n",
              " ('laissez', 'faire'): True,\n",
              " ('legalized', 'larceny'): True,\n",
              " ('lifeless', 'tree'): True,\n",
              " ('lightly', 'burthened'): True,\n",
              " ('literary', 'altercation'): True,\n",
              " ('luring', 'fallacy'): True,\n",
              " ('measureless', 'wastage'): True,\n",
              " ('mystic', 'chords'): True,\n",
              " ('narrowly', 'nationalistic'): True,\n",
              " ('needless', 'additions'): True,\n",
              " ('nourish', 'starved'): True,\n",
              " ('obsessions', 'cripple'): True,\n",
              " ('outlaw', 'regimes'): True,\n",
              " ('paraphrase', 'Winston'): True,\n",
              " ('pitiable', 'slackerism'): True,\n",
              " ('plainest', 'implication'): True,\n",
              " ('poet', 'Archibald'): True,\n",
              " ('preoccupations', 'absorbing'): True,\n",
              " ('pres', 'urgently'): True,\n",
              " ('presaging', 'flashes'): True,\n",
              " ('prohibitory', 'clauses'): True,\n",
              " ('prudential', 'economies'): True,\n",
              " ('publicly', 'repeating'): True,\n",
              " ('purposeful', 'rekindling'): True,\n",
              " ('readjusts', 'compensations'): True,\n",
              " ('regional', 'groupings'): True,\n",
              " ('reverend', 'clergy'): True,\n",
              " ('rolling', 'mills'): True,\n",
              " ('ruthlessly', 'breaks'): True,\n",
              " ('sad', 'depletion'): True,\n",
              " ('scheming', 'politician'): True,\n",
              " ('settler', 'pushes'): True,\n",
              " ('shameful', 'confession'): True,\n",
              " ('shamefully', 'prodigal'): True,\n",
              " ('sharp', 'thrust'): True,\n",
              " ('shorten', 'distances'): True,\n",
              " ('shorter', 'waterway'): True,\n",
              " ('silently', 'stalks'): True,\n",
              " ('singly', 'cope'): True,\n",
              " ('skillful', 'artisans'): True,\n",
              " ('slaughtering', 'innocents'): True,\n",
              " ('surviving', 'warriors'): True,\n",
              " ('tangible', 'determinations'): True,\n",
              " ('tiny', 'fraction'): True,\n",
              " ('tropic', 'suns'): True,\n",
              " ('unbounded', 'hospitality'): True,\n",
              " ('unceasingly', 'preyed'): True,\n",
              " ('uncrossed', 'desert'): True,\n",
              " ('uniformly', 'outrun'): True,\n",
              " ('unitedly', 'marshals'): True,\n",
              " ('untried', 'cares'): True,\n",
              " ('unwholesome', 'progeny'): True,\n",
              " ('watchman', 'waketh'): True,\n",
              " ('watercourses', 'undeveloped'): True,\n",
              " ('wily', 'craft'): True,\n",
              " ('wings', '\";'): True,\n",
              " ('¡¨¡', 'Xthey'): True,\n",
              " (\"'\", 's'): True,\n",
              " ('Founding', 'Fathers'): True,\n",
              " ('Social', 'Security'): True,\n",
              " ('Indian', 'tribes'): True,\n",
              " ('Abraham', 'Lincoln'): True,\n",
              " ('specie', 'payments'): True,\n",
              " ('illegal', 'liquor'): True,\n",
              " ('merchant', 'marine'): True,\n",
              " ('Western', 'Hemisphere'): True,\n",
              " ('Old', 'World'): True,\n",
              " ('9', '/'): True,\n",
              " ('Assessing', 'realistically'): True,\n",
              " ('Bicentennial', 'Inauguration'): True,\n",
              " ('CONGRESS', 'Action'): True,\n",
              " ('Congressman', 'Michael'): True,\n",
              " ('Delano', 'Roosevelt'): True,\n",
              " ('Discouraging', 'indebtedness'): True,\n",
              " ('Disease', 'diminishes'): True,\n",
              " ('Franklin', 'Delano'): True,\n",
              " ('GOVERNMENT', 'TO'): True,\n",
              " ('Gettysburg', 'Address'): True,\n",
              " ('Gillis', 'Long'): True,\n",
              " ('Humanity', 'hungers'): True,\n",
              " ('John', 'Page'): True,\n",
              " ('John', 'Stennis'): True}"
            ]
          },
          "metadata": {},
          "execution_count": 15
        }
      ]
    },
    {
      "cell_type": "markdown",
      "source": [
        "### Calculate mutual information = log(P(x,y) / [P(x) * P(y)])"
      ],
      "metadata": {
        "id": "bR1hxBjoprYm"
      }
    }
  ]
}