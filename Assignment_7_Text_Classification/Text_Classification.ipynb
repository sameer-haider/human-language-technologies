{
  "nbformat": 4,
  "nbformat_minor": 0,
  "metadata": {
    "colab": {
      "provenance": []
    },
    "kernelspec": {
      "name": "python3",
      "display_name": "Python 3"
    },
    "language_info": {
      "name": "python"
    }
  },
  "cells": [
    {
      "cell_type": "code",
      "execution_count": 87,
      "metadata": {
        "id": "zxWv-36S4Na3"
      },
      "outputs": [],
      "source": [
        "# Imports\n",
        "import pandas as pd\n",
        "from sklearn.feature_extraction.text import CountVectorizer, TfidfVectorizer\n",
        "from sklearn.model_selection import train_test_split\n",
        "from sklearn.naive_bayes import MultinomialNB\n",
        "from sklearn.linear_model import LogisticRegression\n",
        "from sklearn.neural_network import MLPClassifier\n",
        "import matplotlib.pyplot as plt\n",
        "from sklearn.metrics import classification_report"
      ]
    },
    {
      "cell_type": "code",
      "source": [
        "# Load sms-spam data\n",
        "data = pd.read_csv('sample_data/spam.csv', encoding = 'latin-1')\n",
        "data = data.iloc[:, :2]"
      ],
      "metadata": {
        "id": "Qy842tH25dxv"
      },
      "execution_count": 88,
      "outputs": []
    },
    {
      "cell_type": "code",
      "source": [
        "# Preprocessing\n",
        "data['label'] = data['v1'].apply(lambda x: 1 if x == 'spam' else 0)\n",
        "X = data['v2']\n",
        "y = data['label']\n",
        "# Use count vectorizer (maybe try tfidf vectorizer to see if it performs better)"
      ],
      "metadata": {
        "id": "iVKbu48U5yyX"
      },
      "execution_count": 89,
      "outputs": []
    },
    {
      "cell_type": "code",
      "source": [
        "# Use both Count and Tf-idf\n",
        "cv = CountVectorizer()\n",
        "X_cv = cv.fit_transform(X)\n",
        "tfidf = TfidfVectorizer()\n",
        "X_tfidf = tfidf.fit_transform(X)"
      ],
      "metadata": {
        "id": "keKG1PGKH5xx"
      },
      "execution_count": 90,
      "outputs": []
    },
    {
      "cell_type": "code",
      "source": [
        "# Split into 2 sets: Count and tf-idf\n",
        "X_train_count, X_test_count, y_train_count, y_test_count = train_test_split(X_cv, y, test_size=0.2, random_state=42)\n",
        "X_train_tfidf, X_test_tfidf, y_train_tfidf, y_test_tfidf = train_test_split(X_tfidf, y, test_size=0.2, random_state=42)"
      ],
      "metadata": {
        "id": "M93jVcp6JuQq"
      },
      "execution_count": 91,
      "outputs": []
    },
    {
      "cell_type": "markdown",
      "source": [
        "#### Distribution and Description"
      ],
      "metadata": {
        "id": "VBj1bcUf9TFW"
      }
    },
    {
      "cell_type": "code",
      "source": [
        "\n",
        "# Plot the distribution of the target classes\n",
        "plt.hist(data['v1'], bins=2, width=.2, align='right')\n",
        "plt.xlabel('Class')\n",
        "plt.ylabel('Count')\n",
        "plt.xticks([.35, .85], ['ham', 'spam'])\n",
        "plt.show()"
      ],
      "metadata": {
        "colab": {
          "base_uri": "https://localhost:8080/",
          "height": 450
        },
        "id": "-2g1_ZjG9VGf",
        "outputId": "c1355732-cb51-41ec-8095-31dab8071790"
      },
      "execution_count": 92,
      "outputs": [
        {
          "output_type": "display_data",
          "data": {
            "text/plain": [
              "<Figure size 640x480 with 1 Axes>"
            ],
            "image/png": "[encoded data removed]"
          },
          "metadata": {}
        }
      ]
    },
    {
      "cell_type": "markdown",
      "source": [
        "The dataset contains over 5000 SMS messages which are either spam or \"ham\" as shown in the distribution above. Messages that are \"ham\" are simply not spam. The model should be able to predict which messages are spam and which are \"ham\" or not spam based on the message. It should be able to analyze frequent words that appear across spam messages and use that to identify new spam messages."
      ],
      "metadata": {
        "id": "dpCebSbE_v_Q"
      }
    },
    {
      "cell_type": "markdown",
      "source": [
        "#### Naive Bayes"
      ],
      "metadata": {
        "id": "K0o_xi3J74I3"
      }
    },
    {
      "cell_type": "code",
      "source": [
        "# Train and test\n",
        "nb_classifier = MultinomialNB()\n",
        "# Count\n",
        "nb_classifier.fit(X_train_count, y_train_count)\n",
        "nb_predictions = nb_classifier.predict(X_test_count)\n",
        "print(\"Naive Bayes using counts:\\n\", classification_report(y_test_count, nb_predictions))\n",
        "# Tf-idf\n",
        "nb_classifier.fit(X_train_tfidf, y_train_tfidf)\n",
        "nb_predictions = nb_classifier.predict(X_test_tfidf)\n",
        "print(\"Naive Bayes using tf-idf:\\n\", classification_report(y_test_tfidf, nb_predictions))"
      ],
      "metadata": {
        "colab": {
          "base_uri": "https://localhost:8080/"
        },
        "id": "vGGYIfma736z",
        "outputId": "98a5e7c4-64ec-4412-be64-e899757beffe"
      },
      "execution_count": 93,
      "outputs": [
        {
          "output_type": "stream",
          "name": "stdout",
          "text": [
            "Naive Bayes using counts:\n",
            "               precision    recall  f1-score   support\n",
            "\n",
            "           0       0.99      0.99      0.99       965\n",
            "           1       0.91      0.93      0.92       150\n",
            "\n",
            "    accuracy                           0.98      1115\n",
            "   macro avg       0.95      0.96      0.95      1115\n",
            "weighted avg       0.98      0.98      0.98      1115\n",
            "\n",
            "Naive Bayes using tf-idf:\n",
            "               precision    recall  f1-score   support\n",
            "\n",
            "           0       0.96      1.00      0.98       965\n",
            "           1       1.00      0.72      0.84       150\n",
            "\n",
            "    accuracy                           0.96      1115\n",
            "   macro avg       0.98      0.86      0.91      1115\n",
            "weighted avg       0.96      0.96      0.96      1115\n",
            "\n"
          ]
        }
      ]
    },
    {
      "cell_type": "markdown",
      "source": [
        "#### Logistic Regression"
      ],
      "metadata": {
        "id": "uWKg7MiCI2Mw"
      }
    },
    {
      "cell_type": "code",
      "source": [
        "# Train and test\n",
        "lr_classifier = LogisticRegression()\n",
        "# Count\n",
        "lr_classifier.fit(X_train_count, y_train_count)\n",
        "lr_predictions = lr_classifier.predict(X_test_count)\n",
        "print(\"Logistic Regression using counts:\\n\", classification_report(y_test_count, lr_predictions))\n",
        "# Tf-idf\n",
        "lr_classifier.fit(X_train_tfidf, y_train_tfidf)\n",
        "lr_predictions = lr_classifier.predict(X_test_tfidf)\n",
        "print(\"Logistic Regression using tf-idf:\\n\", classification_report(y_test_tfidf, lr_predictions))"
      ],
      "metadata": {
        "colab": {
          "base_uri": "https://localhost:8080/"
        },
        "id": "XLpt97Hf71qQ",
        "outputId": "5c6a879c-0f03-4005-ab16-54c95164c5ee"
      },
      "execution_count": 94,
      "outputs": [
        {
          "output_type": "stream",
          "name": "stdout",
          "text": [
            "Logistic Regression using counts:\n",
            "               precision    recall  f1-score   support\n",
            "\n",
            "           0       0.98      1.00      0.99       965\n",
            "           1       1.00      0.84      0.91       150\n",
            "\n",
            "    accuracy                           0.98      1115\n",
            "   macro avg       0.99      0.92      0.95      1115\n",
            "weighted avg       0.98      0.98      0.98      1115\n",
            "\n",
            "Logistic Regression using tf-idf:\n",
            "               precision    recall  f1-score   support\n",
            "\n",
            "           0       0.96      1.00      0.98       965\n",
            "           1       1.00      0.72      0.84       150\n",
            "\n",
            "    accuracy                           0.96      1115\n",
            "   macro avg       0.98      0.86      0.91      1115\n",
            "weighted avg       0.96      0.96      0.96      1115\n",
            "\n"
          ]
        }
      ]
    },
    {
      "cell_type": "markdown",
      "source": [
        "#### Neural Networks\n"
      ],
      "metadata": {
        "id": "om6t32sKLFsc"
      }
    },
    {
      "cell_type": "code",
      "source": [
        "# Train and Test\n",
        "nn_classifier = MLPClassifier(hidden_layer_sizes=(30, 8))\n",
        "# Count\n",
        "nn_classifier.fit(X_train_count, y_train_count)\n",
        "nn_predictions = nn_classifier.predict(X_test_count)\n",
        "print(\"Neural Networks using counts:\\n\", classification_report(y_test_count, nn_predictions))\n",
        "# Count\n",
        "nn_classifier.fit(X_train_tfidf, y_train_tfidf)\n",
        "nn_predictions = nn_classifier.predict(X_test_tfidf)\n",
        "print(\"Neural Networks using tf-idf:\\n\", classification_report(y_test_tfidf, nn_predictions))"
      ],
      "metadata": {
        "id": "5C7DVYGTLWl8"
      },
      "execution_count": null,
      "outputs": []
    },
    {
      "cell_type": "markdown",
      "source": [
        "### Summary & Analysis\n",
        "Overall, all the models achieved high accuracy with the dataset. All of the models (Multinomial Naive Bayes, Logistic Regression, and Multilayer perceptron) performed over 95% accuracy on the dataset. My explanation for this high accuracy is that spam falls into very predictable patterns, so it is easy for the models to identify spam messages.\n",
        "\n",
        "### Modifications to models\n",
        "I wanted to see how the models' performance was affected by the method of vectorization. I compared two vectorizers: Count and Tf-idf. It turned out that the count vectorizer performed slightly better than the tf-idf vectorizer. In general, the count vectorizer is more \"simple\" and generalized while the tf-idf vectorizer performs better on large datasets by highlighting outliers and rare predictors. Since the SMS dataset was relatively small, it makes sense that the count vectorizer performed better because it is better suited for smaller datasets.\n"
      ],
      "metadata": {
        "id": "SzpcoOQWMR0m"
      }
    }
  ]
}